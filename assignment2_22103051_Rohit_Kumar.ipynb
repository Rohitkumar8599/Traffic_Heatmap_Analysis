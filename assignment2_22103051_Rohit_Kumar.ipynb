{
 "cells": [
  {
   "cell_type": "markdown",
   "id": "bb7cbd2a",
   "metadata": {},
   "source": [
    "# Assignment 2  CE787A Computational tools for Transportation Engineering\n"
   ]
  },
  {
   "cell_type": "markdown",
   "id": "5010cc60",
   "metadata": {},
   "source": [
    "Question 1(a): List all the png files present in the ques1_images directory. Output the list that you have\n",
    "created and the number of png files that are present in the directory."
   ]
  },
  {
   "cell_type": "code",
   "execution_count": 2,
   "id": "87c7f307",
   "metadata": {},
   "outputs": [],
   "source": [
    "import numpy as np\n",
    "import pandas as pd\n",
    "import os\n",
    "import regex as re\n",
    "import shutil"
   ]
  },
  {
   "cell_type": "code",
   "execution_count": 8,
   "id": "af19e655",
   "metadata": {},
   "outputs": [
    {
     "name": "stdout",
     "output_type": "stream",
     "text": [
      "['.ipynb_checkpoints', 'assignment2_22103051_Rohit_Kumar.ipynb', 'Assignment2_22103051_Rohit_kumar.pdf', 'Assignment2_CE787A.pdf', 'images', 'ques1_output']\n",
      "['ques1_images']\n",
      "['I-35-NB_EB-Week39-Mon.png', 'I-35-NB_EB-Week39-Tue.png', 'I-35-NB_EB-Week39-Wed.png', 'I-35-NB_EB-Week40-Mon.png', 'I-35-NB_EB-Week40-Tue.png', 'I-35-NB_EB-Week40-Wed.png', 'I-80-SB_WB-Week39-Mon.png', 'I-80-SB_WB-Week39-Tue.png', 'I-80-SB_WB-Week39-Wed.png', 'I-80-SB_WB-Week40-Mon.png', 'I-80-SB_WB-Week40-Tue.png', 'I-80-SB_WB-Week40-Wed.png']\n",
      "12\n"
     ]
    }
   ],
   "source": [
    "image_dir= os.listdir() # this access the directory file where .ipynb file is exist\n",
    "sub_image_dir1= os.listdir('images') #this access the file inside image directory\n",
    "sub_image_dir2= os.listdir('images/ques1_images')#this access the file inside ques1_images\n",
    "print(image_dir)\n",
    "print(sub_image_dir1)\n",
    "print(sub_image_dir2)\n",
    "no_of_images = len(sub_image_dir2) #this find the no. of element in sub_image_dir2 \n",
    "print(no_of_images)"
   ]
  },
  {
   "cell_type": "markdown",
   "id": "4dedac71",
   "metadata": {},
   "source": [
    "Question 1(b):Create a dataframe with a single column named “Image_Path” which contains the file path of the png files."
   ]
  },
  {
   "cell_type": "code",
   "execution_count": 9,
   "id": "e96732a3",
   "metadata": {},
   "outputs": [
    {
     "data": {
      "text/html": [
       "<div>\n",
       "<style scoped>\n",
       "    .dataframe tbody tr th:only-of-type {\n",
       "        vertical-align: middle;\n",
       "    }\n",
       "\n",
       "    .dataframe tbody tr th {\n",
       "        vertical-align: top;\n",
       "    }\n",
       "\n",
       "    .dataframe thead th {\n",
       "        text-align: right;\n",
       "    }\n",
       "</style>\n",
       "<table border=\"1\" class=\"dataframe\">\n",
       "  <thead>\n",
       "    <tr style=\"text-align: right;\">\n",
       "      <th></th>\n",
       "      <th>Image_path</th>\n",
       "    </tr>\n",
       "  </thead>\n",
       "  <tbody>\n",
       "    <tr>\n",
       "      <th>0</th>\n",
       "      <td>I-35-NB_EB-Week39-Mon.png</td>\n",
       "    </tr>\n",
       "    <tr>\n",
       "      <th>1</th>\n",
       "      <td>I-35-NB_EB-Week39-Tue.png</td>\n",
       "    </tr>\n",
       "    <tr>\n",
       "      <th>2</th>\n",
       "      <td>I-35-NB_EB-Week39-Wed.png</td>\n",
       "    </tr>\n",
       "    <tr>\n",
       "      <th>3</th>\n",
       "      <td>I-35-NB_EB-Week40-Mon.png</td>\n",
       "    </tr>\n",
       "    <tr>\n",
       "      <th>4</th>\n",
       "      <td>I-35-NB_EB-Week40-Tue.png</td>\n",
       "    </tr>\n",
       "    <tr>\n",
       "      <th>5</th>\n",
       "      <td>I-35-NB_EB-Week40-Wed.png</td>\n",
       "    </tr>\n",
       "    <tr>\n",
       "      <th>6</th>\n",
       "      <td>I-80-SB_WB-Week39-Mon.png</td>\n",
       "    </tr>\n",
       "    <tr>\n",
       "      <th>7</th>\n",
       "      <td>I-80-SB_WB-Week39-Tue.png</td>\n",
       "    </tr>\n",
       "    <tr>\n",
       "      <th>8</th>\n",
       "      <td>I-80-SB_WB-Week39-Wed.png</td>\n",
       "    </tr>\n",
       "    <tr>\n",
       "      <th>9</th>\n",
       "      <td>I-80-SB_WB-Week40-Mon.png</td>\n",
       "    </tr>\n",
       "    <tr>\n",
       "      <th>10</th>\n",
       "      <td>I-80-SB_WB-Week40-Tue.png</td>\n",
       "    </tr>\n",
       "    <tr>\n",
       "      <th>11</th>\n",
       "      <td>I-80-SB_WB-Week40-Wed.png</td>\n",
       "    </tr>\n",
       "  </tbody>\n",
       "</table>\n",
       "</div>"
      ],
      "text/plain": [
       "                   Image_path\n",
       "0   I-35-NB_EB-Week39-Mon.png\n",
       "1   I-35-NB_EB-Week39-Tue.png\n",
       "2   I-35-NB_EB-Week39-Wed.png\n",
       "3   I-35-NB_EB-Week40-Mon.png\n",
       "4   I-35-NB_EB-Week40-Tue.png\n",
       "5   I-35-NB_EB-Week40-Wed.png\n",
       "6   I-80-SB_WB-Week39-Mon.png\n",
       "7   I-80-SB_WB-Week39-Tue.png\n",
       "8   I-80-SB_WB-Week39-Wed.png\n",
       "9   I-80-SB_WB-Week40-Mon.png\n",
       "10  I-80-SB_WB-Week40-Tue.png\n",
       "11  I-80-SB_WB-Week40-Wed.png"
      ]
     },
     "execution_count": 9,
     "metadata": {},
     "output_type": "execute_result"
    }
   ],
   "source": [
    "image_path_data_frame = pd.DataFrame(sub_image_dir2,columns= ['Image_path']) \n",
    "# here we make Image_path column and it store sub_image_dir2 element\n",
    "image_path_data_frame.head(n=12)"
   ]
  },
  {
   "cell_type": "markdown",
   "id": "4d21a9d1",
   "metadata": {},
   "source": [
    "Question 1(c): Add four columns to your dataframe which will have RoadNumber, RoadDirection, WeekNumber, and DayofWeek respectively for each image file path. A sample row of the output dataframe is at the end of this question."
   ]
  },
  {
   "cell_type": "code",
   "execution_count": 11,
   "id": "9116b1dd",
   "metadata": {},
   "outputs": [
    {
     "data": {
      "text/html": [
       "<div>\n",
       "<style scoped>\n",
       "    .dataframe tbody tr th:only-of-type {\n",
       "        vertical-align: middle;\n",
       "    }\n",
       "\n",
       "    .dataframe tbody tr th {\n",
       "        vertical-align: top;\n",
       "    }\n",
       "\n",
       "    .dataframe thead th {\n",
       "        text-align: right;\n",
       "    }\n",
       "</style>\n",
       "<table border=\"1\" class=\"dataframe\">\n",
       "  <thead>\n",
       "    <tr style=\"text-align: right;\">\n",
       "      <th></th>\n",
       "      <th>Image_path</th>\n",
       "      <th>RoadNumber</th>\n",
       "      <th>RoadDirection</th>\n",
       "      <th>WeekNumber</th>\n",
       "      <th>DayofWeek</th>\n",
       "    </tr>\n",
       "  </thead>\n",
       "  <tbody>\n",
       "    <tr>\n",
       "      <th>0</th>\n",
       "      <td>I-35-NB_EB-Week39-Mon.png</td>\n",
       "      <td>I-35</td>\n",
       "      <td>NB_EB</td>\n",
       "      <td>Week39</td>\n",
       "      <td>Mon.png</td>\n",
       "    </tr>\n",
       "    <tr>\n",
       "      <th>1</th>\n",
       "      <td>I-35-NB_EB-Week39-Tue.png</td>\n",
       "      <td>I-35</td>\n",
       "      <td>NB_EB</td>\n",
       "      <td>Week39</td>\n",
       "      <td>Tue.png</td>\n",
       "    </tr>\n",
       "    <tr>\n",
       "      <th>2</th>\n",
       "      <td>I-35-NB_EB-Week39-Wed.png</td>\n",
       "      <td>I-35</td>\n",
       "      <td>NB_EB</td>\n",
       "      <td>Week39</td>\n",
       "      <td>Wed.png</td>\n",
       "    </tr>\n",
       "    <tr>\n",
       "      <th>3</th>\n",
       "      <td>I-35-NB_EB-Week40-Mon.png</td>\n",
       "      <td>I-35</td>\n",
       "      <td>NB_EB</td>\n",
       "      <td>Week40</td>\n",
       "      <td>Mon.png</td>\n",
       "    </tr>\n",
       "    <tr>\n",
       "      <th>4</th>\n",
       "      <td>I-35-NB_EB-Week40-Tue.png</td>\n",
       "      <td>I-35</td>\n",
       "      <td>NB_EB</td>\n",
       "      <td>Week40</td>\n",
       "      <td>Tue.png</td>\n",
       "    </tr>\n",
       "    <tr>\n",
       "      <th>5</th>\n",
       "      <td>I-35-NB_EB-Week40-Wed.png</td>\n",
       "      <td>I-35</td>\n",
       "      <td>NB_EB</td>\n",
       "      <td>Week40</td>\n",
       "      <td>Wed.png</td>\n",
       "    </tr>\n",
       "    <tr>\n",
       "      <th>6</th>\n",
       "      <td>I-80-SB_WB-Week39-Mon.png</td>\n",
       "      <td>I-80</td>\n",
       "      <td>SB_WB</td>\n",
       "      <td>Week39</td>\n",
       "      <td>Mon.png</td>\n",
       "    </tr>\n",
       "    <tr>\n",
       "      <th>7</th>\n",
       "      <td>I-80-SB_WB-Week39-Tue.png</td>\n",
       "      <td>I-80</td>\n",
       "      <td>SB_WB</td>\n",
       "      <td>Week39</td>\n",
       "      <td>Tue.png</td>\n",
       "    </tr>\n",
       "    <tr>\n",
       "      <th>8</th>\n",
       "      <td>I-80-SB_WB-Week39-Wed.png</td>\n",
       "      <td>I-80</td>\n",
       "      <td>SB_WB</td>\n",
       "      <td>Week39</td>\n",
       "      <td>Wed.png</td>\n",
       "    </tr>\n",
       "    <tr>\n",
       "      <th>9</th>\n",
       "      <td>I-80-SB_WB-Week40-Mon.png</td>\n",
       "      <td>I-80</td>\n",
       "      <td>SB_WB</td>\n",
       "      <td>Week40</td>\n",
       "      <td>Mon.png</td>\n",
       "    </tr>\n",
       "    <tr>\n",
       "      <th>10</th>\n",
       "      <td>I-80-SB_WB-Week40-Tue.png</td>\n",
       "      <td>I-80</td>\n",
       "      <td>SB_WB</td>\n",
       "      <td>Week40</td>\n",
       "      <td>Tue.png</td>\n",
       "    </tr>\n",
       "    <tr>\n",
       "      <th>11</th>\n",
       "      <td>I-80-SB_WB-Week40-Wed.png</td>\n",
       "      <td>I-80</td>\n",
       "      <td>SB_WB</td>\n",
       "      <td>Week40</td>\n",
       "      <td>Wed.png</td>\n",
       "    </tr>\n",
       "  </tbody>\n",
       "</table>\n",
       "</div>"
      ],
      "text/plain": [
       "                   Image_path RoadNumber RoadDirection WeekNumber DayofWeek\n",
       "0   I-35-NB_EB-Week39-Mon.png       I-35         NB_EB     Week39   Mon.png\n",
       "1   I-35-NB_EB-Week39-Tue.png       I-35         NB_EB     Week39   Tue.png\n",
       "2   I-35-NB_EB-Week39-Wed.png       I-35         NB_EB     Week39   Wed.png\n",
       "3   I-35-NB_EB-Week40-Mon.png       I-35         NB_EB     Week40   Mon.png\n",
       "4   I-35-NB_EB-Week40-Tue.png       I-35         NB_EB     Week40   Tue.png\n",
       "5   I-35-NB_EB-Week40-Wed.png       I-35         NB_EB     Week40   Wed.png\n",
       "6   I-80-SB_WB-Week39-Mon.png       I-80         SB_WB     Week39   Mon.png\n",
       "7   I-80-SB_WB-Week39-Tue.png       I-80         SB_WB     Week39   Tue.png\n",
       "8   I-80-SB_WB-Week39-Wed.png       I-80         SB_WB     Week39   Wed.png\n",
       "9   I-80-SB_WB-Week40-Mon.png       I-80         SB_WB     Week40   Mon.png\n",
       "10  I-80-SB_WB-Week40-Tue.png       I-80         SB_WB     Week40   Tue.png\n",
       "11  I-80-SB_WB-Week40-Wed.png       I-80         SB_WB     Week40   Wed.png"
      ]
     },
     "execution_count": 11,
     "metadata": {},
     "output_type": "execute_result"
    }
   ],
   "source": [
    "image_path_data_frame[['RoadNumber','RoadDirection','WeekNumber','DayofWeek']] = \\\n",
    "image_path_data_frame['Image_path'].str.rsplit('-',3,expand=True) \n",
    "# it make the four column RoadNumber,RoadDirection,Weeknumber,DayofWeek and store the value in \n",
    "#respected column by split from right side of Image_path\n",
    "image_path_data_frame.head(n=12)"
   ]
  },
  {
   "cell_type": "markdown",
   "id": "4e1558be",
   "metadata": {},
   "source": [
    "Question 1(d) Create a new column named “NewImagePath” in your dataframe which will contain new file path. The new file path will be of the format:\n",
    "ques1_output/RoadNumber/Direction/DayofWeek_WeekNumber.png."
   ]
  },
  {
   "cell_type": "code",
   "execution_count": 12,
   "id": "6f956fa4",
   "metadata": {},
   "outputs": [
    {
     "name": "stderr",
     "output_type": "stream",
     "text": [
      "C:\\Users\\user\\AppData\\Local\\Temp\\ipykernel_544\\458036465.py:2: FutureWarning: The default value of regex will change from True to False in a future version.\n",
      "  +image_path_data_frame['RoadDirection']+'/'+image_path_data_frame['DayofWeek'].str.replace('.png','')+\\\n"
     ]
    },
    {
     "data": {
      "text/html": [
       "<div>\n",
       "<style scoped>\n",
       "    .dataframe tbody tr th:only-of-type {\n",
       "        vertical-align: middle;\n",
       "    }\n",
       "\n",
       "    .dataframe tbody tr th {\n",
       "        vertical-align: top;\n",
       "    }\n",
       "\n",
       "    .dataframe thead th {\n",
       "        text-align: right;\n",
       "    }\n",
       "</style>\n",
       "<table border=\"1\" class=\"dataframe\">\n",
       "  <thead>\n",
       "    <tr style=\"text-align: right;\">\n",
       "      <th></th>\n",
       "      <th>Image_path</th>\n",
       "      <th>RoadNumber</th>\n",
       "      <th>RoadDirection</th>\n",
       "      <th>DayofWeek</th>\n",
       "      <th>WeekNumber</th>\n",
       "      <th>NewImagePath</th>\n",
       "    </tr>\n",
       "  </thead>\n",
       "  <tbody>\n",
       "    <tr>\n",
       "      <th>0</th>\n",
       "      <td>I-35-NB_EB-Week39-Mon.png</td>\n",
       "      <td>I-35</td>\n",
       "      <td>NB_EB</td>\n",
       "      <td>Mon.png</td>\n",
       "      <td>Week39</td>\n",
       "      <td>ques1_output/I-35/NB_EB/Mon_Week39.png</td>\n",
       "    </tr>\n",
       "    <tr>\n",
       "      <th>1</th>\n",
       "      <td>I-35-NB_EB-Week39-Tue.png</td>\n",
       "      <td>I-35</td>\n",
       "      <td>NB_EB</td>\n",
       "      <td>Tue.png</td>\n",
       "      <td>Week39</td>\n",
       "      <td>ques1_output/I-35/NB_EB/Tue_Week39.png</td>\n",
       "    </tr>\n",
       "    <tr>\n",
       "      <th>2</th>\n",
       "      <td>I-35-NB_EB-Week39-Wed.png</td>\n",
       "      <td>I-35</td>\n",
       "      <td>NB_EB</td>\n",
       "      <td>Wed.png</td>\n",
       "      <td>Week39</td>\n",
       "      <td>ques1_output/I-35/NB_EB/Wed_Week39.png</td>\n",
       "    </tr>\n",
       "    <tr>\n",
       "      <th>3</th>\n",
       "      <td>I-35-NB_EB-Week40-Mon.png</td>\n",
       "      <td>I-35</td>\n",
       "      <td>NB_EB</td>\n",
       "      <td>Mon.png</td>\n",
       "      <td>Week40</td>\n",
       "      <td>ques1_output/I-35/NB_EB/Mon_Week40.png</td>\n",
       "    </tr>\n",
       "    <tr>\n",
       "      <th>4</th>\n",
       "      <td>I-35-NB_EB-Week40-Tue.png</td>\n",
       "      <td>I-35</td>\n",
       "      <td>NB_EB</td>\n",
       "      <td>Tue.png</td>\n",
       "      <td>Week40</td>\n",
       "      <td>ques1_output/I-35/NB_EB/Tue_Week40.png</td>\n",
       "    </tr>\n",
       "    <tr>\n",
       "      <th>5</th>\n",
       "      <td>I-35-NB_EB-Week40-Wed.png</td>\n",
       "      <td>I-35</td>\n",
       "      <td>NB_EB</td>\n",
       "      <td>Wed.png</td>\n",
       "      <td>Week40</td>\n",
       "      <td>ques1_output/I-35/NB_EB/Wed_Week40.png</td>\n",
       "    </tr>\n",
       "    <tr>\n",
       "      <th>6</th>\n",
       "      <td>I-80-SB_WB-Week39-Mon.png</td>\n",
       "      <td>I-80</td>\n",
       "      <td>SB_WB</td>\n",
       "      <td>Mon.png</td>\n",
       "      <td>Week39</td>\n",
       "      <td>ques1_output/I-80/SB_WB/Mon_Week39.png</td>\n",
       "    </tr>\n",
       "    <tr>\n",
       "      <th>7</th>\n",
       "      <td>I-80-SB_WB-Week39-Tue.png</td>\n",
       "      <td>I-80</td>\n",
       "      <td>SB_WB</td>\n",
       "      <td>Tue.png</td>\n",
       "      <td>Week39</td>\n",
       "      <td>ques1_output/I-80/SB_WB/Tue_Week39.png</td>\n",
       "    </tr>\n",
       "    <tr>\n",
       "      <th>8</th>\n",
       "      <td>I-80-SB_WB-Week39-Wed.png</td>\n",
       "      <td>I-80</td>\n",
       "      <td>SB_WB</td>\n",
       "      <td>Wed.png</td>\n",
       "      <td>Week39</td>\n",
       "      <td>ques1_output/I-80/SB_WB/Wed_Week39.png</td>\n",
       "    </tr>\n",
       "    <tr>\n",
       "      <th>9</th>\n",
       "      <td>I-80-SB_WB-Week40-Mon.png</td>\n",
       "      <td>I-80</td>\n",
       "      <td>SB_WB</td>\n",
       "      <td>Mon.png</td>\n",
       "      <td>Week40</td>\n",
       "      <td>ques1_output/I-80/SB_WB/Mon_Week40.png</td>\n",
       "    </tr>\n",
       "    <tr>\n",
       "      <th>10</th>\n",
       "      <td>I-80-SB_WB-Week40-Tue.png</td>\n",
       "      <td>I-80</td>\n",
       "      <td>SB_WB</td>\n",
       "      <td>Tue.png</td>\n",
       "      <td>Week40</td>\n",
       "      <td>ques1_output/I-80/SB_WB/Tue_Week40.png</td>\n",
       "    </tr>\n",
       "    <tr>\n",
       "      <th>11</th>\n",
       "      <td>I-80-SB_WB-Week40-Wed.png</td>\n",
       "      <td>I-80</td>\n",
       "      <td>SB_WB</td>\n",
       "      <td>Wed.png</td>\n",
       "      <td>Week40</td>\n",
       "      <td>ques1_output/I-80/SB_WB/Wed_Week40.png</td>\n",
       "    </tr>\n",
       "  </tbody>\n",
       "</table>\n",
       "</div>"
      ],
      "text/plain": [
       "                   Image_path RoadNumber RoadDirection DayofWeek WeekNumber  \\\n",
       "0   I-35-NB_EB-Week39-Mon.png       I-35         NB_EB   Mon.png     Week39   \n",
       "1   I-35-NB_EB-Week39-Tue.png       I-35         NB_EB   Tue.png     Week39   \n",
       "2   I-35-NB_EB-Week39-Wed.png       I-35         NB_EB   Wed.png     Week39   \n",
       "3   I-35-NB_EB-Week40-Mon.png       I-35         NB_EB   Mon.png     Week40   \n",
       "4   I-35-NB_EB-Week40-Tue.png       I-35         NB_EB   Tue.png     Week40   \n",
       "5   I-35-NB_EB-Week40-Wed.png       I-35         NB_EB   Wed.png     Week40   \n",
       "6   I-80-SB_WB-Week39-Mon.png       I-80         SB_WB   Mon.png     Week39   \n",
       "7   I-80-SB_WB-Week39-Tue.png       I-80         SB_WB   Tue.png     Week39   \n",
       "8   I-80-SB_WB-Week39-Wed.png       I-80         SB_WB   Wed.png     Week39   \n",
       "9   I-80-SB_WB-Week40-Mon.png       I-80         SB_WB   Mon.png     Week40   \n",
       "10  I-80-SB_WB-Week40-Tue.png       I-80         SB_WB   Tue.png     Week40   \n",
       "11  I-80-SB_WB-Week40-Wed.png       I-80         SB_WB   Wed.png     Week40   \n",
       "\n",
       "                              NewImagePath  \n",
       "0   ques1_output/I-35/NB_EB/Mon_Week39.png  \n",
       "1   ques1_output/I-35/NB_EB/Tue_Week39.png  \n",
       "2   ques1_output/I-35/NB_EB/Wed_Week39.png  \n",
       "3   ques1_output/I-35/NB_EB/Mon_Week40.png  \n",
       "4   ques1_output/I-35/NB_EB/Tue_Week40.png  \n",
       "5   ques1_output/I-35/NB_EB/Wed_Week40.png  \n",
       "6   ques1_output/I-80/SB_WB/Mon_Week39.png  \n",
       "7   ques1_output/I-80/SB_WB/Tue_Week39.png  \n",
       "8   ques1_output/I-80/SB_WB/Wed_Week39.png  \n",
       "9   ques1_output/I-80/SB_WB/Mon_Week40.png  \n",
       "10  ques1_output/I-80/SB_WB/Tue_Week40.png  \n",
       "11  ques1_output/I-80/SB_WB/Wed_Week40.png  "
      ]
     },
     "execution_count": 12,
     "metadata": {},
     "output_type": "execute_result"
    }
   ],
   "source": [
    "image_path_data_frame['NewImagePath'] = \"ques1_output/\"+ image_path_data_frame['RoadNumber']+'/'\\\n",
    "+image_path_data_frame['RoadDirection']+'/'+image_path_data_frame['DayofWeek'].str.replace('.png','')+\\\n",
    "'_'+image_path_data_frame['WeekNumber']+\".png\"\n",
    "#here we make the NewImagePath column which is in the given format\n",
    "image_path_data_frame_1= image_path_data_frame[['Image_path','RoadNumber','RoadDirection','DayofWeek',\n",
    "                                                'WeekNumber','NewImagePath']]\n",
    "image_path_data_frame_1"
   ]
  },
  {
   "cell_type": "markdown",
   "id": "0df30df5",
   "metadata": {},
   "source": [
    "Question 1(e):-  Find out the unique DayofWeek that are present in the input images (Hint: you can create a set from the column DayofWeek).\n"
   ]
  },
  {
   "cell_type": "code",
   "execution_count": 13,
   "id": "5500ae7e",
   "metadata": {},
   "outputs": [
    {
     "name": "stdout",
     "output_type": "stream",
     "text": [
      "['Mon.png' 'Tue.png' 'Wed.png']\n",
      "3\n"
     ]
    }
   ],
   "source": [
    "list1= np.unique(image_path_data_frame['DayofWeek']) #find unique element of DayofWeek\n",
    "print(list1) # print the unique element of DayofWeek\n",
    "print(len(list1))# this find the no. of element in the list"
   ]
  },
  {
   "cell_type": "code",
   "execution_count": 16,
   "id": "81c1adbb",
   "metadata": {},
   "outputs": [
    {
     "data": {
      "text/plain": [
       "3"
      ]
     },
     "execution_count": 16,
     "metadata": {},
     "output_type": "execute_result"
    }
   ],
   "source": [
    "list2=set(image_path_data_frame['DayofWeek'])\n",
    "len(list2)"
   ]
  },
  {
   "cell_type": "markdown",
   "id": "ac23e3fd",
   "metadata": {},
   "source": [
    "Question 1(f):- Create a dictionary using key as “ImagePath” column and value as “NewImagePath” column of your dataframe"
   ]
  },
  {
   "cell_type": "code",
   "execution_count": 21,
   "id": "4fd4c462",
   "metadata": {},
   "outputs": [
    {
     "data": {
      "text/plain": [
       "{'I-35-NB_EB-Week39-Mon.png': 'ques1_output/I-35/NB_EB/Mon_Week39.png',\n",
       " 'I-35-NB_EB-Week39-Tue.png': 'ques1_output/I-35/NB_EB/Tue_Week39.png',\n",
       " 'I-35-NB_EB-Week39-Wed.png': 'ques1_output/I-35/NB_EB/Wed_Week39.png',\n",
       " 'I-35-NB_EB-Week40-Mon.png': 'ques1_output/I-35/NB_EB/Mon_Week40.png',\n",
       " 'I-35-NB_EB-Week40-Tue.png': 'ques1_output/I-35/NB_EB/Tue_Week40.png',\n",
       " 'I-35-NB_EB-Week40-Wed.png': 'ques1_output/I-35/NB_EB/Wed_Week40.png',\n",
       " 'I-80-SB_WB-Week39-Mon.png': 'ques1_output/I-80/SB_WB/Mon_Week39.png',\n",
       " 'I-80-SB_WB-Week39-Tue.png': 'ques1_output/I-80/SB_WB/Tue_Week39.png',\n",
       " 'I-80-SB_WB-Week39-Wed.png': 'ques1_output/I-80/SB_WB/Wed_Week39.png',\n",
       " 'I-80-SB_WB-Week40-Mon.png': 'ques1_output/I-80/SB_WB/Mon_Week40.png',\n",
       " 'I-80-SB_WB-Week40-Tue.png': 'ques1_output/I-80/SB_WB/Tue_Week40.png',\n",
       " 'I-80-SB_WB-Week40-Wed.png': 'ques1_output/I-80/SB_WB/Wed_Week40.png'}"
      ]
     },
     "execution_count": 21,
     "metadata": {},
     "output_type": "execute_result"
    }
   ],
   "source": [
    "dictionary={}\n",
    "a=0\n",
    "while a<12:\n",
    "    dictionary[image_path_data_frame.Image_path[a]]=image_path_data_frame.NewImagePath[a] \n",
    "    # giving the key as Image_path and value is NewImagePath\n",
    "    a=a+1\n",
    "dictionary"
   ]
  },
  {
   "cell_type": "code",
   "execution_count": null,
   "id": "d0302a8b",
   "metadata": {},
   "outputs": [],
   "source": []
  },
  {
   "cell_type": "markdown",
   "id": "dbb48ca6",
   "metadata": {},
   "source": [
    "Question 1(g):-  Iterate over the dictionary using for loop and copy the images from ImagePath to NewImagePath. Create new directories if you need with the help of os module to copy the images to the NewImagePath."
   ]
  },
  {
   "cell_type": "code",
   "execution_count": 8,
   "id": "0c893d34",
   "metadata": {},
   "outputs": [
    {
     "name": "stdout",
     "output_type": "stream",
     "text": [
      "['ques1_output/I-35/NB_EB/Mon_Week39.png', 'ques1_output/I-35/NB_EB/Tue_Week39.png', 'ques1_output/I-35/NB_EB/Wed_Week39.png', 'ques1_output/I-35/NB_EB/Mon_Week40.png', 'ques1_output/I-35/NB_EB/Tue_Week40.png', 'ques1_output/I-35/NB_EB/Wed_Week40.png', 'ques1_output/I-80/SB_WB/Mon_Week39.png', 'ques1_output/I-80/SB_WB/Tue_Week39.png', 'ques1_output/I-80/SB_WB/Wed_Week39.png', 'ques1_output/I-80/SB_WB/Mon_Week40.png', 'ques1_output/I-80/SB_WB/Tue_Week40.png', 'ques1_output/I-80/SB_WB/Wed_Week40.png']\n"
     ]
    }
   ],
   "source": [
    "directory=list(dictionary.values()) #creating the list of dictionary values\n",
    "print(directory)\n",
    "for item in directory:\n",
    "    shutil.copytree('images/ques1_images/',item) #creating the directory as in the tree format and copy the items \n"
   ]
  }
 ],
 "metadata": {
  "kernelspec": {
   "display_name": "Python 3 (ipykernel)",
   "language": "python",
   "name": "python3"
  },
  "language_info": {
   "codemirror_mode": {
    "name": "ipython",
    "version": 3
   },
   "file_extension": ".py",
   "mimetype": "text/x-python",
   "name": "python",
   "nbconvert_exporter": "python",
   "pygments_lexer": "ipython3",
   "version": "3.9.12"
  }
 },
 "nbformat": 4,
 "nbformat_minor": 5
}
